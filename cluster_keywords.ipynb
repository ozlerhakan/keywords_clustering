{
 "cells": [
  {
   "cell_type": "code",
   "execution_count": null,
   "metadata": {
    "id": "X4p40j7Xng5O"
   },
   "outputs": [],
   "source": [
    "!pip install sentence_transformers\n",
    "!pip install pandas"
   ]
  },
  {
   "cell_type": "code",
   "execution_count": null,
   "metadata": {
    "id": "uzalzYeXntsz"
   },
   "outputs": [],
   "source": [
    "import pandas as pd\n",
    "\n",
    "from sentence_transformers import SentenceTransformer, util"
   ]
  },
  {
   "cell_type": "code",
   "execution_count": null,
   "metadata": {
    "id": "7uleqF6fTVMv"
   },
   "outputs": [],
   "source": [
    "cluster_accuracy = .75  \n",
    "min_cluster_size = 2  "
   ]
  },
  {
   "cell_type": "code",
   "execution_count": null,
   "metadata": {
    "id": "tgnfzgnGnMWE"
   },
   "outputs": [],
   "source": [
    "transformer = 'all-mpnet-base-v2'  \n",
    "# the best model as mentioned at https://www.sbert.net/docs/pretrained_models.html#sentence-embedding-models"
   ]
  },
  {
   "cell_type": "markdown",
   "metadata": {},
   "source": [
    "## Load Data"
   ]
  },
  {
   "cell_type": "code",
   "execution_count": null,
   "metadata": {},
   "outputs": [],
   "source": [
    "df = pd.read_csv('keywords.csv')"
   ]
  },
  {
   "cell_type": "code",
   "execution_count": null,
   "metadata": {},
   "outputs": [],
   "source": [
    "assert len(df.columns) == 1, \"dataframe must contain one column\"\n",
    "assert 'keyword' in df.columns[0], \"column name must be 'keyword'\""
   ]
  },
  {
   "cell_type": "code",
   "execution_count": null,
   "metadata": {},
   "outputs": [],
   "source": [
    "df.head()"
   ]
  },
  {
   "cell_type": "markdown",
   "metadata": {
    "id": "8yHMcc5FGZnx"
   },
   "source": [
    "## Clustering One Shot"
   ]
  },
  {
   "cell_type": "code",
   "execution_count": null,
   "metadata": {},
   "outputs": [],
   "source": [
    "corpus = df.keyword.str.lower().drop_duplicates().values"
   ]
  },
  {
   "cell_type": "code",
   "execution_count": null,
   "metadata": {},
   "outputs": [],
   "source": [
    "def cluster_corpus(_corpus: list, _transformer, _min_cluster_size=2, accuracy=.75, batch=256, debug=True, enumerate_start=0):\n",
    "    \n",
    "    model = SentenceTransformer(_transformer)\n",
    "\n",
    "    embeddings = model.encode(\n",
    "        _corpus, \n",
    "        batch_size=batch, \n",
    "        show_progress_bar=debug, \n",
    "        convert_to_tensor=debug\n",
    "    )\n",
    "\n",
    "    clustered_corpus = util.community_detection(\n",
    "        embeddings, \n",
    "        min_community_size=_min_cluster_size,\n",
    "        threshold=accuracy, \n",
    "        init_max_size=len(embeddings)\n",
    "    )\n",
    "    \n",
    "    clusters = [{'cluster': cluster_id, 'keyword': _corpus[member_index]} \n",
    "                for cluster_id, members in enumerate(clustered_corpus, start=enumerate_start) \n",
    "                for member_index in members]\n",
    "            \n",
    "    return pd.DataFrame(clusters)"
   ]
  },
  {
   "cell_type": "code",
   "execution_count": null,
   "metadata": {},
   "outputs": [],
   "source": [
    "df_clusters = cluster_corpus(corpus, transformer, min_cluster_size, accuracy=.85, batch=256)"
   ]
  },
  {
   "cell_type": "code",
   "execution_count": null,
   "metadata": {},
   "outputs": [],
   "source": [
    "df_clusters.head()"
   ]
  },
  {
   "cell_type": "code",
   "execution_count": null,
   "metadata": {},
   "outputs": [],
   "source": [
    "df_clusters.tail()"
   ]
  },
  {
   "cell_type": "code",
   "execution_count": null,
   "metadata": {},
   "outputs": [],
   "source": [
    "df_clusters.cluster.nunique(), df_clusters.shape"
   ]
  },
  {
   "cell_type": "code",
   "execution_count": null,
   "metadata": {},
   "outputs": [],
   "source": [
    "keyword_remaining = list(set(corpus) - set(df_clusters.keyword))"
   ]
  },
  {
   "cell_type": "code",
   "execution_count": null,
   "metadata": {},
   "outputs": [],
   "source": [
    "df_remaining_clusters = cluster_corpus(\n",
    "    keyword_remaining, \n",
    "    transformer, \n",
    "    min_cluster_size, \n",
    "    accuracy=.85, \n",
    "    batch=256,\n",
    "    enumerate_start=df_clusters.cluster.nunique()\n",
    ")"
   ]
  },
  {
   "cell_type": "code",
   "execution_count": null,
   "metadata": {},
   "outputs": [],
   "source": [
    "df_remaining_clusters.shape, df_remaining_clusters.cluster.nunique()"
   ]
  },
  {
   "cell_type": "code",
   "execution_count": null,
   "metadata": {},
   "outputs": [],
   "source": [
    "df_remaining_clusters.head()"
   ]
  },
  {
   "cell_type": "code",
   "execution_count": null,
   "metadata": {},
   "outputs": [],
   "source": [
    "df_remaining_clusters.tail()"
   ]
  },
  {
   "cell_type": "markdown",
   "metadata": {},
   "source": [
    "## Find Clusters Iteratively"
   ]
  },
  {
   "cell_type": "code",
   "execution_count": null,
   "metadata": {},
   "outputs": [],
   "source": [
    "corpus = df.keyword.str.lower().drop_duplicates().values"
   ]
  },
  {
   "cell_type": "code",
   "execution_count": null,
   "metadata": {},
   "outputs": [],
   "source": [
    "run = True\n",
    "cluster_number_start_at = 0\n",
    "clusters_items = []\n",
    "\n",
    "while run:\n",
    "    \n",
    "    df_clusters = cluster_corpus(\n",
    "        corpus,\n",
    "        transformer, \n",
    "        min_cluster_size, \n",
    "        accuracy=.85, \n",
    "        batch=256, \n",
    "        enumerate_start=cluster_number_start_at\n",
    "    )\n",
    "    \n",
    "    if df_clusters.shape[0] == 0:\n",
    "        run = False\n",
    "    else:\n",
    "        cluster_number_start_at += df_clusters.cluster.nunique()\n",
    "        corpus = list(set(corpus) - set(df_clusters.keyword))\n",
    "        clusters_items.append(df_clusters)\n",
    "        print(f\"{len(corpus)} remaining keywords\")\n",
    "        \n",
    "\n",
    "df_all_clusters = pd.concat(clusters_items)\n",
    "print(\"Done.\")"
   ]
  },
  {
   "cell_type": "code",
   "execution_count": null,
   "metadata": {},
   "outputs": [],
   "source": [
    "df_all_clusters.shape\n",
    "# nOf clustered keywords"
   ]
  },
  {
   "cell_type": "markdown",
   "metadata": {},
   "source": [
    "## Save"
   ]
  },
  {
   "cell_type": "code",
   "execution_count": null,
   "metadata": {},
   "outputs": [],
   "source": [
    "df['keyword'] = df.keyword.str.lower()\n",
    "df_ready = (\n",
    "    df.merge(df_all_clusters, on='keyword', how='left')\n",
    "    .fillna(-1) #set unclustered keywords to -1\n",
    "    .sort_values('cluster', ascending=True)\n",
    ")"
   ]
  },
  {
   "cell_type": "code",
   "execution_count": null,
   "metadata": {},
   "outputs": [],
   "source": [
    "df_ready[['cluster', 'keyword']].to_csv('keywords_with_clusters.csv', index=False)"
   ]
  },
  {
   "cell_type": "markdown",
   "metadata": {},
   "source": [
    "## Future Work"
   ]
  },
  {
   "cell_type": "markdown",
   "metadata": {},
   "source": [
    "1. find duplicated keywords/products/questions/answers\n",
    "2. categorize keywords/products/questions/answers\n",
    "3. similarity search "
   ]
  },
  {
   "cell_type": "markdown",
   "metadata": {},
   "source": [
    "## Resources"
   ]
  },
  {
   "cell_type": "markdown",
   "metadata": {},
   "source": [
    "1. https://www.sbert.net/examples/applications/clustering/README.html#fast-clustering\n",
    "2. https://quoraengineering.quora.com/A-Machine-Learning-Approach-to-Ranking-Answers-on-Quora\n",
    "3. https://quoradata.quora.com/First-Quora-Dataset-Release-Question-Pairs"
   ]
  },
  {
   "cell_type": "code",
   "execution_count": null,
   "metadata": {},
   "outputs": [],
   "source": []
  }
 ],
 "metadata": {
  "accelerator": "GPU",
  "colab": {
   "authorship_tag": "ABX9TyNPg1KRDiqGE5SruybV9zwL",
   "collapsed_sections": [],
   "include_colab_link": true,
   "name": "SEJ - Semantic Clustering Tool by @LeeFootSEO.ipynb",
   "private_outputs": true,
   "provenance": []
  },
  "kernelspec": {
   "display_name": "Python 3 (ipykernel)",
   "language": "python",
   "name": "python3"
  },
  "language_info": {
   "codemirror_mode": {
    "name": "ipython",
    "version": 3
   },
   "file_extension": ".py",
   "mimetype": "text/x-python",
   "name": "python",
   "nbconvert_exporter": "python",
   "pygments_lexer": "ipython3",
   "version": "3.7.8"
  }
 },
 "nbformat": 4,
 "nbformat_minor": 4
}
